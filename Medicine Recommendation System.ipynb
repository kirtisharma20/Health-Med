{
 "cells": [
  {
   "cell_type": "code",
   "execution_count": 16,
   "id": "01e57b77",
   "metadata": {},
   "outputs": [],
   "source": [
    "import pandas as pd\n",
    "import numpy as np\n",
    "import matplotlib.pyplot as plt\n",
    "import seaborn as sns\n",
    "import warnings\n",
    "warnings.filterwarnings('ignore')"
   ]
  },
  {
   "cell_type": "markdown",
   "id": "06ce61e1",
   "metadata": {},
   "source": [
    "### Explore Data Analysis"
   ]
  },
  {
   "cell_type": "code",
   "execution_count": 17,
   "id": "33395179",
   "metadata": {},
   "outputs": [],
   "source": [
    "df = pd.read_csv(\"Datasets/Training.csv\")"
   ]
  },
  {
   "cell_type": "code",
   "execution_count": 18,
   "id": "1342b2a5",
   "metadata": {},
   "outputs": [
    {
     "data": {
      "text/html": [
       "<div>\n",
       "<style scoped>\n",
       "    .dataframe tbody tr th:only-of-type {\n",
       "        vertical-align: middle;\n",
       "    }\n",
       "\n",
       "    .dataframe tbody tr th {\n",
       "        vertical-align: top;\n",
       "    }\n",
       "\n",
       "    .dataframe thead th {\n",
       "        text-align: right;\n",
       "    }\n",
       "</style>\n",
       "<table border=\"1\" class=\"dataframe\">\n",
       "  <thead>\n",
       "    <tr style=\"text-align: right;\">\n",
       "      <th></th>\n",
       "      <th>itching</th>\n",
       "      <th>skin_rash</th>\n",
       "      <th>nodal_skin_eruptions</th>\n",
       "      <th>continuous_sneezing</th>\n",
       "      <th>shivering</th>\n",
       "      <th>chills</th>\n",
       "      <th>joint_pain</th>\n",
       "      <th>stomach_pain</th>\n",
       "      <th>acidity</th>\n",
       "      <th>ulcers_on_tongue</th>\n",
       "      <th>...</th>\n",
       "      <th>blackheads</th>\n",
       "      <th>scurring</th>\n",
       "      <th>skin_peeling</th>\n",
       "      <th>silver_like_dusting</th>\n",
       "      <th>small_dents_in_nails</th>\n",
       "      <th>inflammatory_nails</th>\n",
       "      <th>blister</th>\n",
       "      <th>red_sore_around_nose</th>\n",
       "      <th>yellow_crust_ooze</th>\n",
       "      <th>prognosis</th>\n",
       "    </tr>\n",
       "  </thead>\n",
       "  <tbody>\n",
       "    <tr>\n",
       "      <th>0</th>\n",
       "      <td>1</td>\n",
       "      <td>1</td>\n",
       "      <td>1</td>\n",
       "      <td>0</td>\n",
       "      <td>0</td>\n",
       "      <td>0</td>\n",
       "      <td>0</td>\n",
       "      <td>0</td>\n",
       "      <td>0</td>\n",
       "      <td>0</td>\n",
       "      <td>...</td>\n",
       "      <td>0</td>\n",
       "      <td>0</td>\n",
       "      <td>0</td>\n",
       "      <td>0</td>\n",
       "      <td>0</td>\n",
       "      <td>0</td>\n",
       "      <td>0</td>\n",
       "      <td>0</td>\n",
       "      <td>0</td>\n",
       "      <td>Fungal infection</td>\n",
       "    </tr>\n",
       "    <tr>\n",
       "      <th>1</th>\n",
       "      <td>0</td>\n",
       "      <td>1</td>\n",
       "      <td>1</td>\n",
       "      <td>0</td>\n",
       "      <td>0</td>\n",
       "      <td>0</td>\n",
       "      <td>0</td>\n",
       "      <td>0</td>\n",
       "      <td>0</td>\n",
       "      <td>0</td>\n",
       "      <td>...</td>\n",
       "      <td>0</td>\n",
       "      <td>0</td>\n",
       "      <td>0</td>\n",
       "      <td>0</td>\n",
       "      <td>0</td>\n",
       "      <td>0</td>\n",
       "      <td>0</td>\n",
       "      <td>0</td>\n",
       "      <td>0</td>\n",
       "      <td>Fungal infection</td>\n",
       "    </tr>\n",
       "    <tr>\n",
       "      <th>2</th>\n",
       "      <td>1</td>\n",
       "      <td>0</td>\n",
       "      <td>1</td>\n",
       "      <td>0</td>\n",
       "      <td>0</td>\n",
       "      <td>0</td>\n",
       "      <td>0</td>\n",
       "      <td>0</td>\n",
       "      <td>0</td>\n",
       "      <td>0</td>\n",
       "      <td>...</td>\n",
       "      <td>0</td>\n",
       "      <td>0</td>\n",
       "      <td>0</td>\n",
       "      <td>0</td>\n",
       "      <td>0</td>\n",
       "      <td>0</td>\n",
       "      <td>0</td>\n",
       "      <td>0</td>\n",
       "      <td>0</td>\n",
       "      <td>Fungal infection</td>\n",
       "    </tr>\n",
       "    <tr>\n",
       "      <th>3</th>\n",
       "      <td>1</td>\n",
       "      <td>1</td>\n",
       "      <td>0</td>\n",
       "      <td>0</td>\n",
       "      <td>0</td>\n",
       "      <td>0</td>\n",
       "      <td>0</td>\n",
       "      <td>0</td>\n",
       "      <td>0</td>\n",
       "      <td>0</td>\n",
       "      <td>...</td>\n",
       "      <td>0</td>\n",
       "      <td>0</td>\n",
       "      <td>0</td>\n",
       "      <td>0</td>\n",
       "      <td>0</td>\n",
       "      <td>0</td>\n",
       "      <td>0</td>\n",
       "      <td>0</td>\n",
       "      <td>0</td>\n",
       "      <td>Fungal infection</td>\n",
       "    </tr>\n",
       "    <tr>\n",
       "      <th>4</th>\n",
       "      <td>1</td>\n",
       "      <td>1</td>\n",
       "      <td>1</td>\n",
       "      <td>0</td>\n",
       "      <td>0</td>\n",
       "      <td>0</td>\n",
       "      <td>0</td>\n",
       "      <td>0</td>\n",
       "      <td>0</td>\n",
       "      <td>0</td>\n",
       "      <td>...</td>\n",
       "      <td>0</td>\n",
       "      <td>0</td>\n",
       "      <td>0</td>\n",
       "      <td>0</td>\n",
       "      <td>0</td>\n",
       "      <td>0</td>\n",
       "      <td>0</td>\n",
       "      <td>0</td>\n",
       "      <td>0</td>\n",
       "      <td>Fungal infection</td>\n",
       "    </tr>\n",
       "  </tbody>\n",
       "</table>\n",
       "<p>5 rows × 133 columns</p>\n",
       "</div>"
      ],
      "text/plain": [
       "   itching  skin_rash  nodal_skin_eruptions  continuous_sneezing  shivering  \\\n",
       "0        1          1                     1                    0          0   \n",
       "1        0          1                     1                    0          0   \n",
       "2        1          0                     1                    0          0   \n",
       "3        1          1                     0                    0          0   \n",
       "4        1          1                     1                    0          0   \n",
       "\n",
       "   chills  joint_pain  stomach_pain  acidity  ulcers_on_tongue  ...  \\\n",
       "0       0           0             0        0                 0  ...   \n",
       "1       0           0             0        0                 0  ...   \n",
       "2       0           0             0        0                 0  ...   \n",
       "3       0           0             0        0                 0  ...   \n",
       "4       0           0             0        0                 0  ...   \n",
       "\n",
       "   blackheads  scurring  skin_peeling  silver_like_dusting  \\\n",
       "0           0         0             0                    0   \n",
       "1           0         0             0                    0   \n",
       "2           0         0             0                    0   \n",
       "3           0         0             0                    0   \n",
       "4           0         0             0                    0   \n",
       "\n",
       "   small_dents_in_nails  inflammatory_nails  blister  red_sore_around_nose  \\\n",
       "0                     0                   0        0                     0   \n",
       "1                     0                   0        0                     0   \n",
       "2                     0                   0        0                     0   \n",
       "3                     0                   0        0                     0   \n",
       "4                     0                   0        0                     0   \n",
       "\n",
       "   yellow_crust_ooze         prognosis  \n",
       "0                  0  Fungal infection  \n",
       "1                  0  Fungal infection  \n",
       "2                  0  Fungal infection  \n",
       "3                  0  Fungal infection  \n",
       "4                  0  Fungal infection  \n",
       "\n",
       "[5 rows x 133 columns]"
      ]
     },
     "execution_count": 18,
     "metadata": {},
     "output_type": "execute_result"
    }
   ],
   "source": [
    "df.head()"
   ]
  },
  {
   "cell_type": "code",
   "execution_count": 19,
   "id": "5b2b59db",
   "metadata": {},
   "outputs": [
    {
     "name": "stdout",
     "output_type": "stream",
     "text": [
      "<class 'pandas.core.frame.DataFrame'>\n",
      "RangeIndex: 4920 entries, 0 to 4919\n",
      "Columns: 133 entries, itching to prognosis\n",
      "dtypes: int64(132), object(1)\n",
      "memory usage: 5.0+ MB\n"
     ]
    }
   ],
   "source": [
    "df.info()"
   ]
  },
  {
   "cell_type": "code",
   "execution_count": 20,
   "id": "3684f578",
   "metadata": {},
   "outputs": [
    {
     "data": {
      "text/plain": [
       "itching                           0\n",
       "skin_rash                         0\n",
       "nodal_skin_eruptions              0\n",
       "continuous_sneezing               0\n",
       "shivering                         0\n",
       "chills                            0\n",
       "joint_pain                        0\n",
       "stomach_pain                      0\n",
       "acidity                           0\n",
       "ulcers_on_tongue                  0\n",
       "muscle_wasting                    0\n",
       "vomiting                          0\n",
       "burning_micturition               0\n",
       "spotting_ urination               0\n",
       "fatigue                           0\n",
       "weight_gain                       0\n",
       "anxiety                           0\n",
       "cold_hands_and_feets              0\n",
       "mood_swings                       0\n",
       "weight_loss                       0\n",
       "restlessness                      0\n",
       "lethargy                          0\n",
       "patches_in_throat                 0\n",
       "irregular_sugar_level             0\n",
       "cough                             0\n",
       "high_fever                        0\n",
       "sunken_eyes                       0\n",
       "breathlessness                    0\n",
       "sweating                          0\n",
       "dehydration                       0\n",
       "indigestion                       0\n",
       "headache                          0\n",
       "yellowish_skin                    0\n",
       "dark_urine                        0\n",
       "nausea                            0\n",
       "loss_of_appetite                  0\n",
       "pain_behind_the_eyes              0\n",
       "back_pain                         0\n",
       "constipation                      0\n",
       "abdominal_pain                    0\n",
       "diarrhoea                         0\n",
       "mild_fever                        0\n",
       "yellow_urine                      0\n",
       "yellowing_of_eyes                 0\n",
       "acute_liver_failure               0\n",
       "fluid_overload                    0\n",
       "swelling_of_stomach               0\n",
       "swelled_lymph_nodes               0\n",
       "malaise                           0\n",
       "blurred_and_distorted_vision      0\n",
       "phlegm                            0\n",
       "throat_irritation                 0\n",
       "redness_of_eyes                   0\n",
       "sinus_pressure                    0\n",
       "runny_nose                        0\n",
       "congestion                        0\n",
       "chest_pain                        0\n",
       "weakness_in_limbs                 0\n",
       "fast_heart_rate                   0\n",
       "pain_during_bowel_movements       0\n",
       "pain_in_anal_region               0\n",
       "bloody_stool                      0\n",
       "irritation_in_anus                0\n",
       "neck_pain                         0\n",
       "dizziness                         0\n",
       "cramps                            0\n",
       "bruising                          0\n",
       "obesity                           0\n",
       "swollen_legs                      0\n",
       "swollen_blood_vessels             0\n",
       "puffy_face_and_eyes               0\n",
       "enlarged_thyroid                  0\n",
       "brittle_nails                     0\n",
       "swollen_extremeties               0\n",
       "excessive_hunger                  0\n",
       "extra_marital_contacts            0\n",
       "drying_and_tingling_lips          0\n",
       "slurred_speech                    0\n",
       "knee_pain                         0\n",
       "hip_joint_pain                    0\n",
       "muscle_weakness                   0\n",
       "stiff_neck                        0\n",
       "swelling_joints                   0\n",
       "movement_stiffness                0\n",
       "spinning_movements                0\n",
       "loss_of_balance                   0\n",
       "unsteadiness                      0\n",
       "weakness_of_one_body_side         0\n",
       "loss_of_smell                     0\n",
       "bladder_discomfort                0\n",
       "foul_smell_of urine               0\n",
       "continuous_feel_of_urine          0\n",
       "passage_of_gases                  0\n",
       "internal_itching                  0\n",
       "toxic_look_(typhos)               0\n",
       "depression                        0\n",
       "irritability                      0\n",
       "muscle_pain                       0\n",
       "altered_sensorium                 0\n",
       "red_spots_over_body               0\n",
       "belly_pain                        0\n",
       "abnormal_menstruation             0\n",
       "dischromic _patches               0\n",
       "watering_from_eyes                0\n",
       "increased_appetite                0\n",
       "polyuria                          0\n",
       "family_history                    0\n",
       "mucoid_sputum                     0\n",
       "rusty_sputum                      0\n",
       "lack_of_concentration             0\n",
       "visual_disturbances               0\n",
       "receiving_blood_transfusion       0\n",
       "receiving_unsterile_injections    0\n",
       "coma                              0\n",
       "stomach_bleeding                  0\n",
       "distention_of_abdomen             0\n",
       "history_of_alcohol_consumption    0\n",
       "fluid_overload.1                  0\n",
       "blood_in_sputum                   0\n",
       "prominent_veins_on_calf           0\n",
       "palpitations                      0\n",
       "painful_walking                   0\n",
       "pus_filled_pimples                0\n",
       "blackheads                        0\n",
       "scurring                          0\n",
       "skin_peeling                      0\n",
       "silver_like_dusting               0\n",
       "small_dents_in_nails              0\n",
       "inflammatory_nails                0\n",
       "blister                           0\n",
       "red_sore_around_nose              0\n",
       "yellow_crust_ooze                 0\n",
       "prognosis                         0\n",
       "dtype: int64"
      ]
     },
     "execution_count": 20,
     "metadata": {},
     "output_type": "execute_result"
    }
   ],
   "source": [
    "pd.set_option('display.max_rows', None)\n",
    "df.isnull().sum()"
   ]
  },
  {
   "cell_type": "code",
   "execution_count": 21,
   "id": "b1a93823",
   "metadata": {},
   "outputs": [
    {
     "data": {
      "text/plain": [
       "itching                            int64\n",
       "skin_rash                          int64\n",
       "nodal_skin_eruptions               int64\n",
       "continuous_sneezing                int64\n",
       "shivering                          int64\n",
       "chills                             int64\n",
       "joint_pain                         int64\n",
       "stomach_pain                       int64\n",
       "acidity                            int64\n",
       "ulcers_on_tongue                   int64\n",
       "muscle_wasting                     int64\n",
       "vomiting                           int64\n",
       "burning_micturition                int64\n",
       "spotting_ urination                int64\n",
       "fatigue                            int64\n",
       "weight_gain                        int64\n",
       "anxiety                            int64\n",
       "cold_hands_and_feets               int64\n",
       "mood_swings                        int64\n",
       "weight_loss                        int64\n",
       "restlessness                       int64\n",
       "lethargy                           int64\n",
       "patches_in_throat                  int64\n",
       "irregular_sugar_level              int64\n",
       "cough                              int64\n",
       "high_fever                         int64\n",
       "sunken_eyes                        int64\n",
       "breathlessness                     int64\n",
       "sweating                           int64\n",
       "dehydration                        int64\n",
       "indigestion                        int64\n",
       "headache                           int64\n",
       "yellowish_skin                     int64\n",
       "dark_urine                         int64\n",
       "nausea                             int64\n",
       "loss_of_appetite                   int64\n",
       "pain_behind_the_eyes               int64\n",
       "back_pain                          int64\n",
       "constipation                       int64\n",
       "abdominal_pain                     int64\n",
       "diarrhoea                          int64\n",
       "mild_fever                         int64\n",
       "yellow_urine                       int64\n",
       "yellowing_of_eyes                  int64\n",
       "acute_liver_failure                int64\n",
       "fluid_overload                     int64\n",
       "swelling_of_stomach                int64\n",
       "swelled_lymph_nodes                int64\n",
       "malaise                            int64\n",
       "blurred_and_distorted_vision       int64\n",
       "phlegm                             int64\n",
       "throat_irritation                  int64\n",
       "redness_of_eyes                    int64\n",
       "sinus_pressure                     int64\n",
       "runny_nose                         int64\n",
       "congestion                         int64\n",
       "chest_pain                         int64\n",
       "weakness_in_limbs                  int64\n",
       "fast_heart_rate                    int64\n",
       "pain_during_bowel_movements        int64\n",
       "pain_in_anal_region                int64\n",
       "bloody_stool                       int64\n",
       "irritation_in_anus                 int64\n",
       "neck_pain                          int64\n",
       "dizziness                          int64\n",
       "cramps                             int64\n",
       "bruising                           int64\n",
       "obesity                            int64\n",
       "swollen_legs                       int64\n",
       "swollen_blood_vessels              int64\n",
       "puffy_face_and_eyes                int64\n",
       "enlarged_thyroid                   int64\n",
       "brittle_nails                      int64\n",
       "swollen_extremeties                int64\n",
       "excessive_hunger                   int64\n",
       "extra_marital_contacts             int64\n",
       "drying_and_tingling_lips           int64\n",
       "slurred_speech                     int64\n",
       "knee_pain                          int64\n",
       "hip_joint_pain                     int64\n",
       "muscle_weakness                    int64\n",
       "stiff_neck                         int64\n",
       "swelling_joints                    int64\n",
       "movement_stiffness                 int64\n",
       "spinning_movements                 int64\n",
       "loss_of_balance                    int64\n",
       "unsteadiness                       int64\n",
       "weakness_of_one_body_side          int64\n",
       "loss_of_smell                      int64\n",
       "bladder_discomfort                 int64\n",
       "foul_smell_of urine                int64\n",
       "continuous_feel_of_urine           int64\n",
       "passage_of_gases                   int64\n",
       "internal_itching                   int64\n",
       "toxic_look_(typhos)                int64\n",
       "depression                         int64\n",
       "irritability                       int64\n",
       "muscle_pain                        int64\n",
       "altered_sensorium                  int64\n",
       "red_spots_over_body                int64\n",
       "belly_pain                         int64\n",
       "abnormal_menstruation              int64\n",
       "dischromic _patches                int64\n",
       "watering_from_eyes                 int64\n",
       "increased_appetite                 int64\n",
       "polyuria                           int64\n",
       "family_history                     int64\n",
       "mucoid_sputum                      int64\n",
       "rusty_sputum                       int64\n",
       "lack_of_concentration              int64\n",
       "visual_disturbances                int64\n",
       "receiving_blood_transfusion        int64\n",
       "receiving_unsterile_injections     int64\n",
       "coma                               int64\n",
       "stomach_bleeding                   int64\n",
       "distention_of_abdomen              int64\n",
       "history_of_alcohol_consumption     int64\n",
       "fluid_overload.1                   int64\n",
       "blood_in_sputum                    int64\n",
       "prominent_veins_on_calf            int64\n",
       "palpitations                       int64\n",
       "painful_walking                    int64\n",
       "pus_filled_pimples                 int64\n",
       "blackheads                         int64\n",
       "scurring                           int64\n",
       "skin_peeling                       int64\n",
       "silver_like_dusting                int64\n",
       "small_dents_in_nails               int64\n",
       "inflammatory_nails                 int64\n",
       "blister                            int64\n",
       "red_sore_around_nose               int64\n",
       "yellow_crust_ooze                  int64\n",
       "prognosis                         object\n",
       "dtype: object"
      ]
     },
     "execution_count": 21,
     "metadata": {},
     "output_type": "execute_result"
    }
   ],
   "source": [
    "df.dtypes"
   ]
  },
  {
   "cell_type": "code",
   "execution_count": 22,
   "id": "11886a4c",
   "metadata": {},
   "outputs": [
    {
     "data": {
      "text/html": [
       "<div>\n",
       "<style scoped>\n",
       "    .dataframe tbody tr th:only-of-type {\n",
       "        vertical-align: middle;\n",
       "    }\n",
       "\n",
       "    .dataframe tbody tr th {\n",
       "        vertical-align: top;\n",
       "    }\n",
       "\n",
       "    .dataframe thead th {\n",
       "        text-align: right;\n",
       "    }\n",
       "</style>\n",
       "<table border=\"1\" class=\"dataframe\">\n",
       "  <thead>\n",
       "    <tr style=\"text-align: right;\">\n",
       "      <th></th>\n",
       "      <th>itching</th>\n",
       "      <th>skin_rash</th>\n",
       "      <th>nodal_skin_eruptions</th>\n",
       "      <th>continuous_sneezing</th>\n",
       "      <th>shivering</th>\n",
       "      <th>chills</th>\n",
       "      <th>joint_pain</th>\n",
       "      <th>stomach_pain</th>\n",
       "      <th>acidity</th>\n",
       "      <th>ulcers_on_tongue</th>\n",
       "      <th>...</th>\n",
       "      <th>pus_filled_pimples</th>\n",
       "      <th>blackheads</th>\n",
       "      <th>scurring</th>\n",
       "      <th>skin_peeling</th>\n",
       "      <th>silver_like_dusting</th>\n",
       "      <th>small_dents_in_nails</th>\n",
       "      <th>inflammatory_nails</th>\n",
       "      <th>blister</th>\n",
       "      <th>red_sore_around_nose</th>\n",
       "      <th>yellow_crust_ooze</th>\n",
       "    </tr>\n",
       "  </thead>\n",
       "  <tbody>\n",
       "    <tr>\n",
       "      <th>count</th>\n",
       "      <td>4920.000000</td>\n",
       "      <td>4920.000000</td>\n",
       "      <td>4920.000000</td>\n",
       "      <td>4920.000000</td>\n",
       "      <td>4920.000000</td>\n",
       "      <td>4920.000000</td>\n",
       "      <td>4920.000000</td>\n",
       "      <td>4920.000000</td>\n",
       "      <td>4920.000000</td>\n",
       "      <td>4920.000000</td>\n",
       "      <td>...</td>\n",
       "      <td>4920.000000</td>\n",
       "      <td>4920.000000</td>\n",
       "      <td>4920.000000</td>\n",
       "      <td>4920.000000</td>\n",
       "      <td>4920.000000</td>\n",
       "      <td>4920.000000</td>\n",
       "      <td>4920.000000</td>\n",
       "      <td>4920.000000</td>\n",
       "      <td>4920.000000</td>\n",
       "      <td>4920.000000</td>\n",
       "    </tr>\n",
       "    <tr>\n",
       "      <th>mean</th>\n",
       "      <td>0.137805</td>\n",
       "      <td>0.159756</td>\n",
       "      <td>0.021951</td>\n",
       "      <td>0.045122</td>\n",
       "      <td>0.021951</td>\n",
       "      <td>0.162195</td>\n",
       "      <td>0.139024</td>\n",
       "      <td>0.045122</td>\n",
       "      <td>0.045122</td>\n",
       "      <td>0.021951</td>\n",
       "      <td>...</td>\n",
       "      <td>0.021951</td>\n",
       "      <td>0.021951</td>\n",
       "      <td>0.021951</td>\n",
       "      <td>0.023171</td>\n",
       "      <td>0.023171</td>\n",
       "      <td>0.023171</td>\n",
       "      <td>0.023171</td>\n",
       "      <td>0.023171</td>\n",
       "      <td>0.023171</td>\n",
       "      <td>0.023171</td>\n",
       "    </tr>\n",
       "    <tr>\n",
       "      <th>std</th>\n",
       "      <td>0.344730</td>\n",
       "      <td>0.366417</td>\n",
       "      <td>0.146539</td>\n",
       "      <td>0.207593</td>\n",
       "      <td>0.146539</td>\n",
       "      <td>0.368667</td>\n",
       "      <td>0.346007</td>\n",
       "      <td>0.207593</td>\n",
       "      <td>0.207593</td>\n",
       "      <td>0.146539</td>\n",
       "      <td>...</td>\n",
       "      <td>0.146539</td>\n",
       "      <td>0.146539</td>\n",
       "      <td>0.146539</td>\n",
       "      <td>0.150461</td>\n",
       "      <td>0.150461</td>\n",
       "      <td>0.150461</td>\n",
       "      <td>0.150461</td>\n",
       "      <td>0.150461</td>\n",
       "      <td>0.150461</td>\n",
       "      <td>0.150461</td>\n",
       "    </tr>\n",
       "    <tr>\n",
       "      <th>min</th>\n",
       "      <td>0.000000</td>\n",
       "      <td>0.000000</td>\n",
       "      <td>0.000000</td>\n",
       "      <td>0.000000</td>\n",
       "      <td>0.000000</td>\n",
       "      <td>0.000000</td>\n",
       "      <td>0.000000</td>\n",
       "      <td>0.000000</td>\n",
       "      <td>0.000000</td>\n",
       "      <td>0.000000</td>\n",
       "      <td>...</td>\n",
       "      <td>0.000000</td>\n",
       "      <td>0.000000</td>\n",
       "      <td>0.000000</td>\n",
       "      <td>0.000000</td>\n",
       "      <td>0.000000</td>\n",
       "      <td>0.000000</td>\n",
       "      <td>0.000000</td>\n",
       "      <td>0.000000</td>\n",
       "      <td>0.000000</td>\n",
       "      <td>0.000000</td>\n",
       "    </tr>\n",
       "    <tr>\n",
       "      <th>25%</th>\n",
       "      <td>0.000000</td>\n",
       "      <td>0.000000</td>\n",
       "      <td>0.000000</td>\n",
       "      <td>0.000000</td>\n",
       "      <td>0.000000</td>\n",
       "      <td>0.000000</td>\n",
       "      <td>0.000000</td>\n",
       "      <td>0.000000</td>\n",
       "      <td>0.000000</td>\n",
       "      <td>0.000000</td>\n",
       "      <td>...</td>\n",
       "      <td>0.000000</td>\n",
       "      <td>0.000000</td>\n",
       "      <td>0.000000</td>\n",
       "      <td>0.000000</td>\n",
       "      <td>0.000000</td>\n",
       "      <td>0.000000</td>\n",
       "      <td>0.000000</td>\n",
       "      <td>0.000000</td>\n",
       "      <td>0.000000</td>\n",
       "      <td>0.000000</td>\n",
       "    </tr>\n",
       "    <tr>\n",
       "      <th>50%</th>\n",
       "      <td>0.000000</td>\n",
       "      <td>0.000000</td>\n",
       "      <td>0.000000</td>\n",
       "      <td>0.000000</td>\n",
       "      <td>0.000000</td>\n",
       "      <td>0.000000</td>\n",
       "      <td>0.000000</td>\n",
       "      <td>0.000000</td>\n",
       "      <td>0.000000</td>\n",
       "      <td>0.000000</td>\n",
       "      <td>...</td>\n",
       "      <td>0.000000</td>\n",
       "      <td>0.000000</td>\n",
       "      <td>0.000000</td>\n",
       "      <td>0.000000</td>\n",
       "      <td>0.000000</td>\n",
       "      <td>0.000000</td>\n",
       "      <td>0.000000</td>\n",
       "      <td>0.000000</td>\n",
       "      <td>0.000000</td>\n",
       "      <td>0.000000</td>\n",
       "    </tr>\n",
       "    <tr>\n",
       "      <th>75%</th>\n",
       "      <td>0.000000</td>\n",
       "      <td>0.000000</td>\n",
       "      <td>0.000000</td>\n",
       "      <td>0.000000</td>\n",
       "      <td>0.000000</td>\n",
       "      <td>0.000000</td>\n",
       "      <td>0.000000</td>\n",
       "      <td>0.000000</td>\n",
       "      <td>0.000000</td>\n",
       "      <td>0.000000</td>\n",
       "      <td>...</td>\n",
       "      <td>0.000000</td>\n",
       "      <td>0.000000</td>\n",
       "      <td>0.000000</td>\n",
       "      <td>0.000000</td>\n",
       "      <td>0.000000</td>\n",
       "      <td>0.000000</td>\n",
       "      <td>0.000000</td>\n",
       "      <td>0.000000</td>\n",
       "      <td>0.000000</td>\n",
       "      <td>0.000000</td>\n",
       "    </tr>\n",
       "    <tr>\n",
       "      <th>max</th>\n",
       "      <td>1.000000</td>\n",
       "      <td>1.000000</td>\n",
       "      <td>1.000000</td>\n",
       "      <td>1.000000</td>\n",
       "      <td>1.000000</td>\n",
       "      <td>1.000000</td>\n",
       "      <td>1.000000</td>\n",
       "      <td>1.000000</td>\n",
       "      <td>1.000000</td>\n",
       "      <td>1.000000</td>\n",
       "      <td>...</td>\n",
       "      <td>1.000000</td>\n",
       "      <td>1.000000</td>\n",
       "      <td>1.000000</td>\n",
       "      <td>1.000000</td>\n",
       "      <td>1.000000</td>\n",
       "      <td>1.000000</td>\n",
       "      <td>1.000000</td>\n",
       "      <td>1.000000</td>\n",
       "      <td>1.000000</td>\n",
       "      <td>1.000000</td>\n",
       "    </tr>\n",
       "  </tbody>\n",
       "</table>\n",
       "<p>8 rows × 132 columns</p>\n",
       "</div>"
      ],
      "text/plain": [
       "           itching    skin_rash  nodal_skin_eruptions  continuous_sneezing  \\\n",
       "count  4920.000000  4920.000000           4920.000000          4920.000000   \n",
       "mean      0.137805     0.159756              0.021951             0.045122   \n",
       "std       0.344730     0.366417              0.146539             0.207593   \n",
       "min       0.000000     0.000000              0.000000             0.000000   \n",
       "25%       0.000000     0.000000              0.000000             0.000000   \n",
       "50%       0.000000     0.000000              0.000000             0.000000   \n",
       "75%       0.000000     0.000000              0.000000             0.000000   \n",
       "max       1.000000     1.000000              1.000000             1.000000   \n",
       "\n",
       "         shivering       chills   joint_pain  stomach_pain      acidity  \\\n",
       "count  4920.000000  4920.000000  4920.000000   4920.000000  4920.000000   \n",
       "mean      0.021951     0.162195     0.139024      0.045122     0.045122   \n",
       "std       0.146539     0.368667     0.346007      0.207593     0.207593   \n",
       "min       0.000000     0.000000     0.000000      0.000000     0.000000   \n",
       "25%       0.000000     0.000000     0.000000      0.000000     0.000000   \n",
       "50%       0.000000     0.000000     0.000000      0.000000     0.000000   \n",
       "75%       0.000000     0.000000     0.000000      0.000000     0.000000   \n",
       "max       1.000000     1.000000     1.000000      1.000000     1.000000   \n",
       "\n",
       "       ulcers_on_tongue  ...  pus_filled_pimples   blackheads     scurring  \\\n",
       "count       4920.000000  ...         4920.000000  4920.000000  4920.000000   \n",
       "mean           0.021951  ...            0.021951     0.021951     0.021951   \n",
       "std            0.146539  ...            0.146539     0.146539     0.146539   \n",
       "min            0.000000  ...            0.000000     0.000000     0.000000   \n",
       "25%            0.000000  ...            0.000000     0.000000     0.000000   \n",
       "50%            0.000000  ...            0.000000     0.000000     0.000000   \n",
       "75%            0.000000  ...            0.000000     0.000000     0.000000   \n",
       "max            1.000000  ...            1.000000     1.000000     1.000000   \n",
       "\n",
       "       skin_peeling  silver_like_dusting  small_dents_in_nails  \\\n",
       "count   4920.000000          4920.000000           4920.000000   \n",
       "mean       0.023171             0.023171              0.023171   \n",
       "std        0.150461             0.150461              0.150461   \n",
       "min        0.000000             0.000000              0.000000   \n",
       "25%        0.000000             0.000000              0.000000   \n",
       "50%        0.000000             0.000000              0.000000   \n",
       "75%        0.000000             0.000000              0.000000   \n",
       "max        1.000000             1.000000              1.000000   \n",
       "\n",
       "       inflammatory_nails      blister  red_sore_around_nose  \\\n",
       "count         4920.000000  4920.000000           4920.000000   \n",
       "mean             0.023171     0.023171              0.023171   \n",
       "std              0.150461     0.150461              0.150461   \n",
       "min              0.000000     0.000000              0.000000   \n",
       "25%              0.000000     0.000000              0.000000   \n",
       "50%              0.000000     0.000000              0.000000   \n",
       "75%              0.000000     0.000000              0.000000   \n",
       "max              1.000000     1.000000              1.000000   \n",
       "\n",
       "       yellow_crust_ooze  \n",
       "count        4920.000000  \n",
       "mean            0.023171  \n",
       "std             0.150461  \n",
       "min             0.000000  \n",
       "25%             0.000000  \n",
       "50%             0.000000  \n",
       "75%             0.000000  \n",
       "max             1.000000  \n",
       "\n",
       "[8 rows x 132 columns]"
      ]
     },
     "execution_count": 22,
     "metadata": {},
     "output_type": "execute_result"
    }
   ],
   "source": [
    "df.describe()"
   ]
  },
  {
   "cell_type": "code",
   "execution_count": 23,
   "id": "8a23da37",
   "metadata": {},
   "outputs": [
    {
     "data": {
      "text/plain": [
       "(array(['Fungal infection', 'Allergy', 'GERD', 'Chronic cholestasis',\n",
       "        'Drug Reaction', 'Peptic ulcer diseae', 'AIDS', 'Diabetes ',\n",
       "        'Gastroenteritis', 'Bronchial Asthma', 'Hypertension ', 'Migraine',\n",
       "        'Cervical spondylosis', 'Paralysis (brain hemorrhage)', 'Jaundice',\n",
       "        'Malaria', 'Chicken pox', 'Dengue', 'Typhoid', 'hepatitis A',\n",
       "        'Hepatitis B', 'Hepatitis C', 'Hepatitis D', 'Hepatitis E',\n",
       "        'Alcoholic hepatitis', 'Tuberculosis', 'Common Cold', 'Pneumonia',\n",
       "        'Dimorphic hemmorhoids(piles)', 'Heart attack', 'Varicose veins',\n",
       "        'Hypothyroidism', 'Hyperthyroidism', 'Hypoglycemia',\n",
       "        'Osteoarthristis', 'Arthritis',\n",
       "        '(vertigo) Paroymsal  Positional Vertigo', 'Acne',\n",
       "        'Urinary tract infection', 'Psoriasis', 'Impetigo'], dtype=object),\n",
       " 41)"
      ]
     },
     "execution_count": 23,
     "metadata": {},
     "output_type": "execute_result"
    }
   ],
   "source": [
    "df['prognosis'].unique(), len(df['prognosis'].unique())"
   ]
  },
  {
   "cell_type": "markdown",
   "id": "39b554d5",
   "metadata": {},
   "source": [
    "sns.pairplot(df)\n",
    "plt.show()"
   ]
  },
  {
   "cell_type": "code",
   "execution_count": 24,
   "id": "b47e7cb7",
   "metadata": {},
   "outputs": [
    {
     "data": {
      "text/html": [
       "<div>\n",
       "<style scoped>\n",
       "    .dataframe tbody tr th:only-of-type {\n",
       "        vertical-align: middle;\n",
       "    }\n",
       "\n",
       "    .dataframe tbody tr th {\n",
       "        vertical-align: top;\n",
       "    }\n",
       "\n",
       "    .dataframe thead th {\n",
       "        text-align: right;\n",
       "    }\n",
       "</style>\n",
       "<table border=\"1\" class=\"dataframe\">\n",
       "  <thead>\n",
       "    <tr style=\"text-align: right;\">\n",
       "      <th></th>\n",
       "      <th>itching</th>\n",
       "      <th>skin_rash</th>\n",
       "      <th>nodal_skin_eruptions</th>\n",
       "      <th>continuous_sneezing</th>\n",
       "      <th>shivering</th>\n",
       "      <th>chills</th>\n",
       "      <th>joint_pain</th>\n",
       "      <th>stomach_pain</th>\n",
       "      <th>acidity</th>\n",
       "      <th>ulcers_on_tongue</th>\n",
       "      <th>...</th>\n",
       "      <th>pus_filled_pimples</th>\n",
       "      <th>blackheads</th>\n",
       "      <th>scurring</th>\n",
       "      <th>skin_peeling</th>\n",
       "      <th>silver_like_dusting</th>\n",
       "      <th>small_dents_in_nails</th>\n",
       "      <th>inflammatory_nails</th>\n",
       "      <th>blister</th>\n",
       "      <th>red_sore_around_nose</th>\n",
       "      <th>yellow_crust_ooze</th>\n",
       "    </tr>\n",
       "  </thead>\n",
       "  <tbody>\n",
       "    <tr>\n",
       "      <th>4918</th>\n",
       "      <td>0</td>\n",
       "      <td>1</td>\n",
       "      <td>0</td>\n",
       "      <td>0</td>\n",
       "      <td>0</td>\n",
       "      <td>0</td>\n",
       "      <td>1</td>\n",
       "      <td>0</td>\n",
       "      <td>0</td>\n",
       "      <td>0</td>\n",
       "      <td>...</td>\n",
       "      <td>0</td>\n",
       "      <td>0</td>\n",
       "      <td>0</td>\n",
       "      <td>1</td>\n",
       "      <td>1</td>\n",
       "      <td>1</td>\n",
       "      <td>1</td>\n",
       "      <td>0</td>\n",
       "      <td>0</td>\n",
       "      <td>0</td>\n",
       "    </tr>\n",
       "    <tr>\n",
       "      <th>4919</th>\n",
       "      <td>0</td>\n",
       "      <td>1</td>\n",
       "      <td>0</td>\n",
       "      <td>0</td>\n",
       "      <td>0</td>\n",
       "      <td>0</td>\n",
       "      <td>0</td>\n",
       "      <td>0</td>\n",
       "      <td>0</td>\n",
       "      <td>0</td>\n",
       "      <td>...</td>\n",
       "      <td>0</td>\n",
       "      <td>0</td>\n",
       "      <td>0</td>\n",
       "      <td>0</td>\n",
       "      <td>0</td>\n",
       "      <td>0</td>\n",
       "      <td>0</td>\n",
       "      <td>1</td>\n",
       "      <td>1</td>\n",
       "      <td>1</td>\n",
       "    </tr>\n",
       "  </tbody>\n",
       "</table>\n",
       "<p>2 rows × 132 columns</p>\n",
       "</div>"
      ],
      "text/plain": [
       "      itching  skin_rash  nodal_skin_eruptions  continuous_sneezing  \\\n",
       "4918        0          1                     0                    0   \n",
       "4919        0          1                     0                    0   \n",
       "\n",
       "      shivering  chills  joint_pain  stomach_pain  acidity  ulcers_on_tongue  \\\n",
       "4918          0       0           1             0        0                 0   \n",
       "4919          0       0           0             0        0                 0   \n",
       "\n",
       "      ...  pus_filled_pimples  blackheads  scurring  skin_peeling  \\\n",
       "4918  ...                   0           0         0             1   \n",
       "4919  ...                   0           0         0             0   \n",
       "\n",
       "      silver_like_dusting  small_dents_in_nails  inflammatory_nails  blister  \\\n",
       "4918                    1                     1                   1        0   \n",
       "4919                    0                     0                   0        1   \n",
       "\n",
       "      red_sore_around_nose  yellow_crust_ooze  \n",
       "4918                     0                  0  \n",
       "4919                     1                  1  \n",
       "\n",
       "[2 rows x 132 columns]"
      ]
     },
     "execution_count": 24,
     "metadata": {},
     "output_type": "execute_result"
    }
   ],
   "source": [
    "X = df.drop('prognosis',axis=1)\n",
    "X.tail(2)"
   ]
  },
  {
   "cell_type": "code",
   "execution_count": 25,
   "id": "6caddb87",
   "metadata": {},
   "outputs": [
    {
     "data": {
      "text/plain": [
       "4918    Psoriasis\n",
       "4919     Impetigo\n",
       "Name: prognosis, dtype: object"
      ]
     },
     "execution_count": 25,
     "metadata": {},
     "output_type": "execute_result"
    }
   ],
   "source": [
    "y = df['prognosis']\n",
    "y.tail(2)"
   ]
  },
  {
   "cell_type": "markdown",
   "id": "2794a307",
   "metadata": {},
   "source": [
    "### Train Test Split"
   ]
  },
  {
   "cell_type": "code",
   "execution_count": 26,
   "id": "d981d842",
   "metadata": {},
   "outputs": [],
   "source": [
    "from sklearn.model_selection import train_test_split\n",
    "from sklearn.preprocessing import LabelEncoder\n",
    "\n",
    "encoder = LabelEncoder()\n",
    "encoder.fit(y)\n",
    "y = encoder.transform(y)\n",
    "X_train, X_test, y_train, y_test = train_test_split(X,y, test_size=0.3, random_state=42)"
   ]
  },
  {
   "cell_type": "code",
   "execution_count": 27,
   "id": "4011587c",
   "metadata": {},
   "outputs": [
    {
     "name": "stdout",
     "output_type": "stream",
     "text": [
      "X_train Shape: (3444, 132)\n",
      "X_test Shape: (1476, 132)\n",
      "y_train Shape: (3444,)\n",
      "y_test Shape: (1476,)\n"
     ]
    }
   ],
   "source": [
    "print(\"X_train Shape:\",X_train.shape)\n",
    "print(\"X_test Shape:\",X_test.shape)\n",
    "print(\"y_train Shape:\",y_train.shape)\n",
    "print(\"y_test Shape:\",y_test.shape)"
   ]
  },
  {
   "cell_type": "code",
   "execution_count": null,
   "id": "1772d7c4",
   "metadata": {},
   "outputs": [],
   "source": [
    "from sklearn.svm import SVC\n",
    "from sklearn.ensemble import RandomForestClassifier\n",
    "from sklearn.tree import DecisionTreeClassifier\n",
    "from sklearn.neighbors import KNeighborsClassifier\n",
    "from sklearn.naive_bayes import MultinomialNB\n",
    "from sklearn.ensemble import GradientBoostingClassifier\n",
    "from sklearn.metrics import accuracy_score, confusion_matrix\n",
    "\n",
    "models = {\n",
    "    \"SVC\":SVC(kernel='linear'),\n",
    "    \"Random Forest Classifier\":RandomForestClassifier(n_estimators=100,random_state=100),\n",
    "    \"Decision Tree Classifier\":DecisionTreeClassifier(),\n",
    "    \"Gradient Boosting Classifier\":GradientBoostingClassifier(n_estimators=100,random_state=100),\n",
    "    \"Multinomial NB\":MultinomialNB(),\n",
    "    \"K-Neighbors Classifier\":KNeighborsClassifier(n_neighbors=5)\n",
    "}\n",
    "\n",
    "for model_name, model in models.items():\n",
    "    model.fit(X_train,y_train)\n",
    "    y_pred = model.predict(X_test)\n",
    "    acc = accuracy_score(y_test,y_pred)\n",
    "    mat = confusion_matrix(y_test,y_pred)\n",
    "    \n",
    "    # Calculate confusion matrix\n",
    "    print(f\"{model_name} Accuracy: {acc}\")\n",
    "    print(f\"{model_name} Confusion Matrix:\")\n",
    "    print(np.array2string(mat, separator=', '))\n",
    "    print(\"=-=-=-=-=-=-=-=-=-=-=-=-=-=-=-=-=-=-=-=-=-=-=-=-=\")"
   ]
  },
  {
   "cell_type": "markdown",
   "id": "4184e23d",
   "metadata": {},
   "source": [
    "##### Here All models Accuracy is 100%. I will take any one of them."
   ]
  },
  {
   "cell_type": "code",
   "execution_count": null,
   "id": "9a5bdf87",
   "metadata": {},
   "outputs": [],
   "source": [
    "# selecting svc\n",
    "svc = SVC(kernel='linear')\n",
    "svc.fit(X_train,y_train)\n",
    "ypred = svc.predict(X_test)\n",
    "accuracy_score(y_test,y_pred)"
   ]
  },
  {
   "cell_type": "code",
   "execution_count": null,
   "id": "faf2e4b4",
   "metadata": {},
   "outputs": [],
   "source": [
    "## Saving model in pkl file..\n",
    "import pickle\n",
    "pickle.dump(svc,open('models/svc.pkl','wb'))"
   ]
  },
  {
   "cell_type": "code",
   "execution_count": null,
   "id": "e5de6a88",
   "metadata": {},
   "outputs": [],
   "source": [
    "## Load model\n",
    "svc = pickle.load(open('models/svc.pkl','rb'))"
   ]
  },
  {
   "cell_type": "code",
   "execution_count": null,
   "id": "631d2120",
   "metadata": {},
   "outputs": [],
   "source": [
    "# test 1:\n",
    "print(\"predicted disease :\",svc.predict(X_test.iloc[0].values.reshape(1,-1)))\n",
    "print(\"Actual Disease :\", y_test[0])"
   ]
  },
  {
   "cell_type": "code",
   "execution_count": 33,
   "id": "89b83a7b",
   "metadata": {},
   "outputs": [
    {
     "name": "stdout",
     "output_type": "stream",
     "text": [
      "predicted disease : [23]\n",
      "Actual Disease : 23\n"
     ]
    }
   ],
   "source": [
    "# test 2:\n",
    "print(\"predicted disease :\",svc.predict(X_test.iloc[100].values.reshape(1,-1)))\n",
    "print(\"Actual Disease :\", y_test[100])"
   ]
  },
  {
   "cell_type": "code",
   "execution_count": 34,
   "id": "a11603d3",
   "metadata": {},
   "outputs": [],
   "source": [
    "Symptom_severity_df = pd.read_csv('Datasets/Symptom-severity.csv')\n",
    "symtoms_df = pd.read_csv('Datasets/symtoms_df.csv')\n",
    "description_df = pd.read_csv('Datasets/description.csv')\n",
    "diets_df = pd.read_csv('Datasets/diets.csv')\n",
    "medications_df = pd.read_csv('Datasets/medications.csv')\n",
    "precautions_df = pd.read_csv('Datasets/precautions_df.csv')\n",
    "workout_df = pd.read_csv('Datasets/workout_df.csv')"
   ]
  },
  {
   "cell_type": "code",
   "execution_count": 35,
   "id": "70800428",
   "metadata": {},
   "outputs": [
    {
     "data": {
      "text/html": [
       "<div>\n",
       "<style scoped>\n",
       "    .dataframe tbody tr th:only-of-type {\n",
       "        vertical-align: middle;\n",
       "    }\n",
       "\n",
       "    .dataframe tbody tr th {\n",
       "        vertical-align: top;\n",
       "    }\n",
       "\n",
       "    .dataframe thead th {\n",
       "        text-align: right;\n",
       "    }\n",
       "</style>\n",
       "<table border=\"1\" class=\"dataframe\">\n",
       "  <thead>\n",
       "    <tr style=\"text-align: right;\">\n",
       "      <th></th>\n",
       "      <th>Symptom</th>\n",
       "      <th>weight</th>\n",
       "    </tr>\n",
       "  </thead>\n",
       "  <tbody>\n",
       "    <tr>\n",
       "      <th>0</th>\n",
       "      <td>itching</td>\n",
       "      <td>1</td>\n",
       "    </tr>\n",
       "    <tr>\n",
       "      <th>1</th>\n",
       "      <td>skin_rash</td>\n",
       "      <td>3</td>\n",
       "    </tr>\n",
       "  </tbody>\n",
       "</table>\n",
       "</div>"
      ],
      "text/plain": [
       "     Symptom  weight\n",
       "0    itching       1\n",
       "1  skin_rash       3"
      ]
     },
     "execution_count": 35,
     "metadata": {},
     "output_type": "execute_result"
    }
   ],
   "source": [
    "Symptom_severity_df.head(2)"
   ]
  },
  {
   "cell_type": "code",
   "execution_count": 36,
   "id": "b1fe0c4f",
   "metadata": {},
   "outputs": [
    {
     "data": {
      "text/html": [
       "<div>\n",
       "<style scoped>\n",
       "    .dataframe tbody tr th:only-of-type {\n",
       "        vertical-align: middle;\n",
       "    }\n",
       "\n",
       "    .dataframe tbody tr th {\n",
       "        vertical-align: top;\n",
       "    }\n",
       "\n",
       "    .dataframe thead th {\n",
       "        text-align: right;\n",
       "    }\n",
       "</style>\n",
       "<table border=\"1\" class=\"dataframe\">\n",
       "  <thead>\n",
       "    <tr style=\"text-align: right;\">\n",
       "      <th></th>\n",
       "      <th>Unnamed: 0</th>\n",
       "      <th>Disease</th>\n",
       "      <th>Symptom_1</th>\n",
       "      <th>Symptom_2</th>\n",
       "      <th>Symptom_3</th>\n",
       "      <th>Symptom_4</th>\n",
       "    </tr>\n",
       "  </thead>\n",
       "  <tbody>\n",
       "    <tr>\n",
       "      <th>0</th>\n",
       "      <td>0</td>\n",
       "      <td>Fungal infection</td>\n",
       "      <td>itching</td>\n",
       "      <td>skin_rash</td>\n",
       "      <td>nodal_skin_eruptions</td>\n",
       "      <td>dischromic _patches</td>\n",
       "    </tr>\n",
       "    <tr>\n",
       "      <th>1</th>\n",
       "      <td>1</td>\n",
       "      <td>Fungal infection</td>\n",
       "      <td>skin_rash</td>\n",
       "      <td>nodal_skin_eruptions</td>\n",
       "      <td>dischromic _patches</td>\n",
       "      <td>NaN</td>\n",
       "    </tr>\n",
       "  </tbody>\n",
       "</table>\n",
       "</div>"
      ],
      "text/plain": [
       "   Unnamed: 0           Disease   Symptom_1              Symptom_2  \\\n",
       "0           0  Fungal infection     itching              skin_rash   \n",
       "1           1  Fungal infection   skin_rash   nodal_skin_eruptions   \n",
       "\n",
       "               Symptom_3             Symptom_4  \n",
       "0   nodal_skin_eruptions   dischromic _patches  \n",
       "1    dischromic _patches                   NaN  "
      ]
     },
     "execution_count": 36,
     "metadata": {},
     "output_type": "execute_result"
    }
   ],
   "source": [
    "symtoms_df.head(2)"
   ]
  },
  {
   "cell_type": "code",
   "execution_count": 37,
   "id": "e996c295",
   "metadata": {},
   "outputs": [
    {
     "data": {
      "text/html": [
       "<div>\n",
       "<style scoped>\n",
       "    .dataframe tbody tr th:only-of-type {\n",
       "        vertical-align: middle;\n",
       "    }\n",
       "\n",
       "    .dataframe tbody tr th {\n",
       "        vertical-align: top;\n",
       "    }\n",
       "\n",
       "    .dataframe thead th {\n",
       "        text-align: right;\n",
       "    }\n",
       "</style>\n",
       "<table border=\"1\" class=\"dataframe\">\n",
       "  <thead>\n",
       "    <tr style=\"text-align: right;\">\n",
       "      <th></th>\n",
       "      <th>Disease</th>\n",
       "      <th>Description</th>\n",
       "    </tr>\n",
       "  </thead>\n",
       "  <tbody>\n",
       "    <tr>\n",
       "      <th>0</th>\n",
       "      <td>Fungal infection</td>\n",
       "      <td>Fungal infection is a common skin condition ca...</td>\n",
       "    </tr>\n",
       "    <tr>\n",
       "      <th>1</th>\n",
       "      <td>Allergy</td>\n",
       "      <td>Allergy is an immune system reaction to a subs...</td>\n",
       "    </tr>\n",
       "  </tbody>\n",
       "</table>\n",
       "</div>"
      ],
      "text/plain": [
       "            Disease                                        Description\n",
       "0  Fungal infection  Fungal infection is a common skin condition ca...\n",
       "1           Allergy  Allergy is an immune system reaction to a subs..."
      ]
     },
     "execution_count": 37,
     "metadata": {},
     "output_type": "execute_result"
    }
   ],
   "source": [
    "description_df.head(2)"
   ]
  },
  {
   "cell_type": "code",
   "execution_count": 38,
   "id": "3161c197",
   "metadata": {},
   "outputs": [
    {
     "data": {
      "text/html": [
       "<div>\n",
       "<style scoped>\n",
       "    .dataframe tbody tr th:only-of-type {\n",
       "        vertical-align: middle;\n",
       "    }\n",
       "\n",
       "    .dataframe tbody tr th {\n",
       "        vertical-align: top;\n",
       "    }\n",
       "\n",
       "    .dataframe thead th {\n",
       "        text-align: right;\n",
       "    }\n",
       "</style>\n",
       "<table border=\"1\" class=\"dataframe\">\n",
       "  <thead>\n",
       "    <tr style=\"text-align: right;\">\n",
       "      <th></th>\n",
       "      <th>Disease</th>\n",
       "      <th>Diet</th>\n",
       "    </tr>\n",
       "  </thead>\n",
       "  <tbody>\n",
       "    <tr>\n",
       "      <th>0</th>\n",
       "      <td>Fungal infection</td>\n",
       "      <td>['Antifungal Diet', 'Probiotics', 'Garlic', 'C...</td>\n",
       "    </tr>\n",
       "    <tr>\n",
       "      <th>1</th>\n",
       "      <td>Allergy</td>\n",
       "      <td>['Elimination Diet', 'Omega-3-rich foods', 'Vi...</td>\n",
       "    </tr>\n",
       "  </tbody>\n",
       "</table>\n",
       "</div>"
      ],
      "text/plain": [
       "            Disease                                               Diet\n",
       "0  Fungal infection  ['Antifungal Diet', 'Probiotics', 'Garlic', 'C...\n",
       "1           Allergy  ['Elimination Diet', 'Omega-3-rich foods', 'Vi..."
      ]
     },
     "execution_count": 38,
     "metadata": {},
     "output_type": "execute_result"
    }
   ],
   "source": [
    "diets_df.head(2)"
   ]
  },
  {
   "cell_type": "code",
   "execution_count": 39,
   "id": "8f79a36b",
   "metadata": {},
   "outputs": [
    {
     "data": {
      "text/html": [
       "<div>\n",
       "<style scoped>\n",
       "    .dataframe tbody tr th:only-of-type {\n",
       "        vertical-align: middle;\n",
       "    }\n",
       "\n",
       "    .dataframe tbody tr th {\n",
       "        vertical-align: top;\n",
       "    }\n",
       "\n",
       "    .dataframe thead th {\n",
       "        text-align: right;\n",
       "    }\n",
       "</style>\n",
       "<table border=\"1\" class=\"dataframe\">\n",
       "  <thead>\n",
       "    <tr style=\"text-align: right;\">\n",
       "      <th></th>\n",
       "      <th>Disease</th>\n",
       "      <th>Medication</th>\n",
       "    </tr>\n",
       "  </thead>\n",
       "  <tbody>\n",
       "    <tr>\n",
       "      <th>0</th>\n",
       "      <td>Fungal infection</td>\n",
       "      <td>['Antifungal Cream', 'Fluconazole', 'Terbinafi...</td>\n",
       "    </tr>\n",
       "    <tr>\n",
       "      <th>1</th>\n",
       "      <td>Allergy</td>\n",
       "      <td>['Antihistamines', 'Decongestants', 'Epinephri...</td>\n",
       "    </tr>\n",
       "  </tbody>\n",
       "</table>\n",
       "</div>"
      ],
      "text/plain": [
       "            Disease                                         Medication\n",
       "0  Fungal infection  ['Antifungal Cream', 'Fluconazole', 'Terbinafi...\n",
       "1           Allergy  ['Antihistamines', 'Decongestants', 'Epinephri..."
      ]
     },
     "execution_count": 39,
     "metadata": {},
     "output_type": "execute_result"
    }
   ],
   "source": [
    "medications_df.head(2)"
   ]
  },
  {
   "cell_type": "code",
   "execution_count": 40,
   "id": "083d3b30",
   "metadata": {},
   "outputs": [
    {
     "data": {
      "text/html": [
       "<div>\n",
       "<style scoped>\n",
       "    .dataframe tbody tr th:only-of-type {\n",
       "        vertical-align: middle;\n",
       "    }\n",
       "\n",
       "    .dataframe tbody tr th {\n",
       "        vertical-align: top;\n",
       "    }\n",
       "\n",
       "    .dataframe thead th {\n",
       "        text-align: right;\n",
       "    }\n",
       "</style>\n",
       "<table border=\"1\" class=\"dataframe\">\n",
       "  <thead>\n",
       "    <tr style=\"text-align: right;\">\n",
       "      <th></th>\n",
       "      <th>Unnamed: 0</th>\n",
       "      <th>Disease</th>\n",
       "      <th>Precaution_1</th>\n",
       "      <th>Precaution_2</th>\n",
       "      <th>Precaution_3</th>\n",
       "      <th>Precaution_4</th>\n",
       "    </tr>\n",
       "  </thead>\n",
       "  <tbody>\n",
       "    <tr>\n",
       "      <th>0</th>\n",
       "      <td>0</td>\n",
       "      <td>Drug Reaction</td>\n",
       "      <td>stop irritation</td>\n",
       "      <td>consult nearest hospital</td>\n",
       "      <td>stop taking drug</td>\n",
       "      <td>follow up</td>\n",
       "    </tr>\n",
       "    <tr>\n",
       "      <th>1</th>\n",
       "      <td>1</td>\n",
       "      <td>Malaria</td>\n",
       "      <td>Consult nearest hospital</td>\n",
       "      <td>avoid oily food</td>\n",
       "      <td>avoid non veg food</td>\n",
       "      <td>keep mosquitos out</td>\n",
       "    </tr>\n",
       "  </tbody>\n",
       "</table>\n",
       "</div>"
      ],
      "text/plain": [
       "   Unnamed: 0        Disease              Precaution_1  \\\n",
       "0           0  Drug Reaction           stop irritation   \n",
       "1           1        Malaria  Consult nearest hospital   \n",
       "\n",
       "               Precaution_2        Precaution_3        Precaution_4  \n",
       "0  consult nearest hospital    stop taking drug           follow up  \n",
       "1           avoid oily food  avoid non veg food  keep mosquitos out  "
      ]
     },
     "execution_count": 40,
     "metadata": {},
     "output_type": "execute_result"
    }
   ],
   "source": [
    "precautions_df.head(2)"
   ]
  },
  {
   "cell_type": "code",
   "execution_count": 41,
   "id": "ec6e4390",
   "metadata": {},
   "outputs": [
    {
     "data": {
      "text/html": [
       "<div>\n",
       "<style scoped>\n",
       "    .dataframe tbody tr th:only-of-type {\n",
       "        vertical-align: middle;\n",
       "    }\n",
       "\n",
       "    .dataframe tbody tr th {\n",
       "        vertical-align: top;\n",
       "    }\n",
       "\n",
       "    .dataframe thead th {\n",
       "        text-align: right;\n",
       "    }\n",
       "</style>\n",
       "<table border=\"1\" class=\"dataframe\">\n",
       "  <thead>\n",
       "    <tr style=\"text-align: right;\">\n",
       "      <th></th>\n",
       "      <th>Unnamed: 0.1</th>\n",
       "      <th>Unnamed: 0</th>\n",
       "      <th>disease</th>\n",
       "      <th>workout</th>\n",
       "    </tr>\n",
       "  </thead>\n",
       "  <tbody>\n",
       "    <tr>\n",
       "      <th>0</th>\n",
       "      <td>0</td>\n",
       "      <td>0</td>\n",
       "      <td>Fungal infection</td>\n",
       "      <td>Avoid sugary foods</td>\n",
       "    </tr>\n",
       "    <tr>\n",
       "      <th>1</th>\n",
       "      <td>1</td>\n",
       "      <td>1</td>\n",
       "      <td>Fungal infection</td>\n",
       "      <td>Consume probiotics</td>\n",
       "    </tr>\n",
       "  </tbody>\n",
       "</table>\n",
       "</div>"
      ],
      "text/plain": [
       "   Unnamed: 0.1  Unnamed: 0           disease             workout\n",
       "0             0           0  Fungal infection  Avoid sugary foods\n",
       "1             1           1  Fungal infection  Consume probiotics"
      ]
     },
     "execution_count": 41,
     "metadata": {},
     "output_type": "execute_result"
    }
   ],
   "source": [
    "workout_df.head(2)"
   ]
  },
  {
   "cell_type": "code",
   "execution_count": 42,
   "id": "00478ed8",
   "metadata": {},
   "outputs": [
    {
     "name": "stdout",
     "output_type": "stream",
     "text": [
      "Total Columns / Symptoms :  132\n",
      "Toal Classes / Diseases : 41\n"
     ]
    }
   ],
   "source": [
    "print(\"Total Columns / Symptoms : \",len(df.columns)-1)   ## -1 'output column not  countable'\n",
    "print(f\"Toal Classes / Diseases : {len(df['prognosis'].unique())}\")"
   ]
  },
  {
   "cell_type": "code",
   "execution_count": 43,
   "id": "4b6fc84c",
   "metadata": {},
   "outputs": [],
   "source": [
    "## In encoder the diseases categorical values replace with numbers.\n",
    "diseases_dict = dict(zip(encoder.transform(encoder.classes_), encoder.classes_))"
   ]
  },
  {
   "cell_type": "code",
   "execution_count": 44,
   "id": "284e26a1",
   "metadata": {},
   "outputs": [
    {
     "data": {
      "text/plain": [
       "{np.int64(0): '(vertigo) Paroymsal  Positional Vertigo',\n",
       " np.int64(1): 'AIDS',\n",
       " np.int64(2): 'Acne',\n",
       " np.int64(3): 'Alcoholic hepatitis',\n",
       " np.int64(4): 'Allergy',\n",
       " np.int64(5): 'Arthritis',\n",
       " np.int64(6): 'Bronchial Asthma',\n",
       " np.int64(7): 'Cervical spondylosis',\n",
       " np.int64(8): 'Chicken pox',\n",
       " np.int64(9): 'Chronic cholestasis',\n",
       " np.int64(10): 'Common Cold',\n",
       " np.int64(11): 'Dengue',\n",
       " np.int64(12): 'Diabetes ',\n",
       " np.int64(13): 'Dimorphic hemmorhoids(piles)',\n",
       " np.int64(14): 'Drug Reaction',\n",
       " np.int64(15): 'Fungal infection',\n",
       " np.int64(16): 'GERD',\n",
       " np.int64(17): 'Gastroenteritis',\n",
       " np.int64(18): 'Heart attack',\n",
       " np.int64(19): 'Hepatitis B',\n",
       " np.int64(20): 'Hepatitis C',\n",
       " np.int64(21): 'Hepatitis D',\n",
       " np.int64(22): 'Hepatitis E',\n",
       " np.int64(23): 'Hypertension ',\n",
       " np.int64(24): 'Hyperthyroidism',\n",
       " np.int64(25): 'Hypoglycemia',\n",
       " np.int64(26): 'Hypothyroidism',\n",
       " np.int64(27): 'Impetigo',\n",
       " np.int64(28): 'Jaundice',\n",
       " np.int64(29): 'Malaria',\n",
       " np.int64(30): 'Migraine',\n",
       " np.int64(31): 'Osteoarthristis',\n",
       " np.int64(32): 'Paralysis (brain hemorrhage)',\n",
       " np.int64(33): 'Peptic ulcer diseae',\n",
       " np.int64(34): 'Pneumonia',\n",
       " np.int64(35): 'Psoriasis',\n",
       " np.int64(36): 'Tuberculosis',\n",
       " np.int64(37): 'Typhoid',\n",
       " np.int64(38): 'Urinary tract infection',\n",
       " np.int64(39): 'Varicose veins',\n",
       " np.int64(40): 'hepatitis A'}"
      ]
     },
     "execution_count": 44,
     "metadata": {},
     "output_type": "execute_result"
    }
   ],
   "source": [
    "diseases_dict"
   ]
  },
  {
   "cell_type": "code",
   "execution_count": 45,
   "id": "9d66bf90",
   "metadata": {},
   "outputs": [
    {
     "name": "stdout",
     "output_type": "stream",
     "text": [
      "\n",
      "Symptoms dictionary:\n",
      "{'itching': 0, 'skin_rash': 1, 'nodal_skin_eruptions': 2, 'continuous_sneezing': 3, 'shivering': 4, 'chills': 5, 'joint_pain': 6, 'stomach_pain': 7, 'acidity': 8, 'ulcers_on_tongue': 9, 'muscle_wasting': 10, 'vomiting': 11, 'burning_micturition': 12, 'spotting_ urination': 13, 'fatigue': 14, 'weight_gain': 15, 'anxiety': 16, 'cold_hands_and_feets': 17, 'mood_swings': 18, 'weight_loss': 19, 'restlessness': 20, 'lethargy': 21, 'patches_in_throat': 22, 'irregular_sugar_level': 23, 'cough': 24, 'high_fever': 25, 'sunken_eyes': 26, 'breathlessness': 27, 'sweating': 28, 'dehydration': 29, 'indigestion': 30, 'headache': 31, 'yellowish_skin': 32, 'dark_urine': 33, 'nausea': 34, 'loss_of_appetite': 35, 'pain_behind_the_eyes': 36, 'back_pain': 37, 'constipation': 38, 'abdominal_pain': 39, 'diarrhoea': 40, 'mild_fever': 41, 'yellow_urine': 42, 'yellowing_of_eyes': 43, 'acute_liver_failure': 44, 'fluid_overload': 45, 'swelling_of_stomach': 46, 'swelled_lymph_nodes': 47, 'malaise': 48, 'blurred_and_distorted_vision': 49, 'phlegm': 50, 'throat_irritation': 51, 'redness_of_eyes': 52, 'sinus_pressure': 53, 'runny_nose': 54, 'congestion': 55, 'chest_pain': 56, 'weakness_in_limbs': 57, 'fast_heart_rate': 58, 'pain_during_bowel_movements': 59, 'pain_in_anal_region': 60, 'bloody_stool': 61, 'irritation_in_anus': 62, 'neck_pain': 63, 'dizziness': 64, 'cramps': 65, 'bruising': 66, 'obesity': 67, 'swollen_legs': 68, 'swollen_blood_vessels': 69, 'puffy_face_and_eyes': 70, 'enlarged_thyroid': 71, 'brittle_nails': 72, 'swollen_extremeties': 73, 'excessive_hunger': 74, 'extra_marital_contacts': 75, 'drying_and_tingling_lips': 76, 'slurred_speech': 77, 'knee_pain': 78, 'hip_joint_pain': 79, 'muscle_weakness': 80, 'stiff_neck': 81, 'swelling_joints': 82, 'movement_stiffness': 83, 'spinning_movements': 84, 'loss_of_balance': 85, 'unsteadiness': 86, 'weakness_of_one_body_side': 87, 'loss_of_smell': 88, 'bladder_discomfort': 89, 'foul_smell_of urine': 90, 'continuous_feel_of_urine': 91, 'passage_of_gases': 92, 'internal_itching': 93, 'toxic_look_(typhos)': 94, 'depression': 95, 'irritability': 96, 'muscle_pain': 97, 'altered_sensorium': 98, 'red_spots_over_body': 99, 'belly_pain': 100, 'abnormal_menstruation': 101, 'dischromic _patches': 102, 'watering_from_eyes': 103, 'increased_appetite': 104, 'polyuria': 105, 'family_history': 106, 'mucoid_sputum': 107, 'rusty_sputum': 108, 'lack_of_concentration': 109, 'visual_disturbances': 110, 'receiving_blood_transfusion': 111, 'receiving_unsterile_injections': 112, 'coma': 113, 'stomach_bleeding': 114, 'distention_of_abdomen': 115, 'history_of_alcohol_consumption': 116, 'fluid_overload.1': 117, 'blood_in_sputum': 118, 'prominent_veins_on_calf': 119, 'palpitations': 120, 'painful_walking': 121, 'pus_filled_pimples': 122, 'blackheads': 123, 'scurring': 124, 'skin_peeling': 125, 'silver_like_dusting': 126, 'small_dents_in_nails': 127, 'inflammatory_nails': 128, 'blister': 129, 'red_sore_around_nose': 130, 'yellow_crust_ooze': 131}\n",
      "132\n"
     ]
    }
   ],
   "source": [
    "## In encoder the symptoms categorical values replace with numbers\n",
    "symptoms_dict = {symptom: idx for idx, symptom in enumerate(X.columns)}\n",
    "print(\"\\nSymptoms dictionary:\")\n",
    "print(symptoms_dict)\n",
    "print(len(symptoms_dict))"
   ]
  },
  {
   "cell_type": "code",
   "execution_count": 46,
   "id": "12890c51",
   "metadata": {},
   "outputs": [],
   "source": [
    "def get_predicted_symptoms(patient_symptoms):\n",
    "    input_vect = np.zeros(len(symptoms_dict))\n",
    "    \n",
    "    for item in patient_symptoms:\n",
    "        input_vect[symptoms_dict[item]]=1\n",
    "    return diseases_dict[svc.predict([input_vect])[0]]"
   ]
  },
  {
   "cell_type": "code",
   "execution_count": 47,
   "id": "927d857c",
   "metadata": {},
   "outputs": [
    {
     "data": {
      "text/plain": [
       "'Fungal infection'"
      ]
     },
     "execution_count": 47,
     "metadata": {},
     "output_type": "execute_result"
    }
   ],
   "source": [
    "input_patient_1 = \"itching,yellow_crust_ooze,swollen_blood_vessels,nodal_skin_eruptions,skin_rash\"\n",
    "pred_1 = get_predicted_symptoms(input_patient_1.split(','))\n",
    "pred_1"
   ]
  },
  {
   "cell_type": "code",
   "execution_count": 48,
   "id": "32d0f288",
   "metadata": {},
   "outputs": [
    {
     "data": {
      "text/plain": [
       "'Allergy'"
      ]
     },
     "execution_count": 48,
     "metadata": {},
     "output_type": "execute_result"
    }
   ],
   "source": [
    "input_patient_2 = \"shivering,chills,joint_pain,stomach_pain,acidity\"\n",
    "pred_2 = get_predicted_symptoms(input_patient_2.split(','))\n",
    "pred_2"
   ]
  },
  {
   "cell_type": "code",
   "execution_count": 49,
   "id": "1852525e",
   "metadata": {},
   "outputs": [
    {
     "data": {
      "text/plain": [
       "'Fungal infection is a common skin condition caused by fungi.'"
      ]
     },
     "execution_count": 49,
     "metadata": {},
     "output_type": "execute_result"
    }
   ],
   "source": [
    "decs_1 = description_df[description_df['Disease']==pred_1]['Description']\n",
    "''.join(decs_1)"
   ]
  },
  {
   "cell_type": "code",
   "execution_count": 50,
   "id": "62206342",
   "metadata": {},
   "outputs": [
    {
     "data": {
      "text/plain": [
       "'Allergy is an immune system reaction to a substance in the environment.'"
      ]
     },
     "execution_count": 50,
     "metadata": {},
     "output_type": "execute_result"
    }
   ],
   "source": [
    "decs_2 = description_df[description_df['Disease']==pred_2]['Description']\n",
    "''.join(decs_2)"
   ]
  },
  {
   "cell_type": "code",
   "execution_count": 51,
   "id": "2f2cd2d7",
   "metadata": {},
   "outputs": [
    {
     "data": {
      "text/plain": [
       "\"['Antifungal Diet', 'Probiotics', 'Garlic', 'Coconut oil', 'Turmeric']\""
      ]
     },
     "execution_count": 51,
     "metadata": {},
     "output_type": "execute_result"
    }
   ],
   "source": [
    "diets_1 = diets_df[diets_df[\"Disease\"]==pred_1]['Diet']\n",
    "''.join(diets_1)"
   ]
  },
  {
   "cell_type": "code",
   "execution_count": 52,
   "id": "a0257504",
   "metadata": {},
   "outputs": [
    {
     "data": {
      "text/plain": [
       "\"['Elimination Diet', 'Omega-3-rich foods', 'Vitamin C-rich foods', 'Quercetin-rich foods', 'Probiotics']\""
      ]
     },
     "execution_count": 52,
     "metadata": {},
     "output_type": "execute_result"
    }
   ],
   "source": [
    "diets_2 = diets_df[diets_df['Disease']==pred_2]['Diet']\n",
    "''.join(diets_2)"
   ]
  },
  {
   "cell_type": "code",
   "execution_count": 53,
   "id": "9cf7c086",
   "metadata": {},
   "outputs": [
    {
     "data": {
      "text/plain": [
       "\"['Antifungal Cream', 'Fluconazole', 'Terbinafine', 'Clotrimazole', 'Ketoconazole']\""
      ]
     },
     "execution_count": 53,
     "metadata": {},
     "output_type": "execute_result"
    }
   ],
   "source": [
    "medication_1 = medications_df[medications_df['Disease']==pred_1]['Medication']\n",
    "''.join(medication_1)"
   ]
  },
  {
   "cell_type": "code",
   "execution_count": 54,
   "id": "5c1eb254",
   "metadata": {},
   "outputs": [
    {
     "data": {
      "text/plain": [
       "\"['Antihistamines', 'Decongestants', 'Epinephrine', 'Corticosteroids', 'Immunotherapy']\""
      ]
     },
     "execution_count": 54,
     "metadata": {},
     "output_type": "execute_result"
    }
   ],
   "source": [
    "medication_2 = medications_df[medications_df[\"Disease\"]==pred_2]['Medication']\n",
    "''.join(medication_2)"
   ]
  },
  {
   "cell_type": "code",
   "execution_count": 55,
   "id": "79ef348d",
   "metadata": {},
   "outputs": [
    {
     "data": {
      "text/plain": [
       "[array(['bath twice', 'use detol or neem in bathing water',\n",
       "        'keep infected area dry', 'use clean cloths'], dtype=object)]"
      ]
     },
     "execution_count": 55,
     "metadata": {},
     "output_type": "execute_result"
    }
   ],
   "source": [
    "precautions_1 = precautions_df[precautions_df[\"Disease\"]==pred_1][['Precaution_1','Precaution_2','Precaution_3','Precaution_4']]\n",
    "[i for i in precautions_1.values]"
   ]
  },
  {
   "cell_type": "code",
   "execution_count": 56,
   "id": "bf7459aa",
   "metadata": {},
   "outputs": [
    {
     "data": {
      "text/plain": [
       "[array(['apply calamine', 'cover area with bandage', nan,\n",
       "        'use ice to compress itching'], dtype=object)]"
      ]
     },
     "execution_count": 56,
     "metadata": {},
     "output_type": "execute_result"
    }
   ],
   "source": [
    "precautions_2 = precautions_df[precautions_df['Disease']==pred_2][['Precaution_1','Precaution_2','Precaution_3','Precaution_4']]\n",
    "[i for i in precautions_2.values]"
   ]
  },
  {
   "cell_type": "code",
   "execution_count": 57,
   "id": "d121acc1",
   "metadata": {},
   "outputs": [
    {
     "data": {
      "text/plain": [
       "['Avoid sugary foods',\n",
       " 'Consume probiotics',\n",
       " 'Increase intake of garlic',\n",
       " 'Include yogurt in diet',\n",
       " 'Limit processed foods',\n",
       " 'Stay hydrated',\n",
       " 'Consume green tea',\n",
       " 'Eat foods rich in zinc',\n",
       " 'Include turmeric in diet',\n",
       " 'Eat fruits and vegetables']"
      ]
     },
     "execution_count": 57,
     "metadata": {},
     "output_type": "execute_result"
    }
   ],
   "source": [
    "workout_1 = workout_df[workout_df['disease']==pred_1]['workout']\n",
    "[i for i in workout_1]"
   ]
  },
  {
   "cell_type": "code",
   "execution_count": 58,
   "id": "52c5bd36",
   "metadata": {},
   "outputs": [
    {
     "data": {
      "text/plain": [
       "['Avoid allergenic foods',\n",
       " 'Consume anti-inflammatory foods',\n",
       " 'Include omega-3 fatty acids',\n",
       " 'Stay hydrated',\n",
       " 'Eat foods rich in vitamin C',\n",
       " 'Include quercetin-rich foods',\n",
       " 'Consume local honey',\n",
       " 'Limit processed foods',\n",
       " 'Include ginger in diet',\n",
       " 'Avoid artificial additives']"
      ]
     },
     "execution_count": 58,
     "metadata": {},
     "output_type": "execute_result"
    }
   ],
   "source": [
    "workout_2 = workout_df[workout_df['disease']==pred_2]['workout']\n",
    "[i for i in workout_2]"
   ]
  },
  {
   "cell_type": "code",
   "execution_count": 59,
   "id": "abe7960e",
   "metadata": {},
   "outputs": [],
   "source": [
    "def get_predicted_symptoms(patient_symptoms):\n",
    "    input_vect = np.zeros(len(symptoms_dict))\n",
    "    \n",
    "    for item in patient_symptoms:\n",
    "        input_vect[symptoms_dict[item]]=1\n",
    "    return diseases_dict[svc.predict([input_vect])[0]]\n",
    "\n",
    "def symptoms_details(disease):\n",
    "    desc = description_df[description_df['Disease']==disease]['Description']\n",
    "    desc = ''.join(desc)\n",
    "    \n",
    "    diet = diets_df[diets_df[\"Disease\"]==disease]['Diet']\n",
    "    diet = [i for i in diet.values.flatten()]\n",
    "    \n",
    "    medct = medications_df[medications_df['Disease']==disease]['Medication']\n",
    "    medct = [i for i in medct.values.flatten()]\n",
    "    \n",
    "    prec= precautions_df[precautions_df[\"Disease\"]==disease][['Precaution_1','Precaution_2','Precaution_3','Precaution_4']]\n",
    "    prec = [i for i in prec.values.flatten()]\n",
    "    \n",
    "    workout = workout_df[workout_df['disease']==disease]['workout']\n",
    "    workout = [i for i in workout]\n",
    "    \n",
    "    return desc, diet, medct, prec, workout\n"
   ]
  },
  {
   "cell_type": "code",
   "execution_count": null,
   "id": "b04da26f",
   "metadata": {},
   "outputs": [],
   "source": []
  },
  {
   "cell_type": "code",
   "execution_count": null,
   "id": "a5e14e24",
   "metadata": {},
   "outputs": [],
   "source": [
    "patient_input = input(\"Enter Symptoms : \")   # itching,yellow_crust_ooze,swollen_blood_vessels,nodal_skin_eruptions,skin_rash\n",
    "print(\"=\"*60)\n",
    "disease = get_predicted_symptoms(patient_input.split(','))\n",
    "desc, diet, medct, prec, workout = symptoms_details(disease)\n",
    "\n",
    "print(\"`\"*60)\n",
    "print(\"=\"*20,\" Disease \",\"=\"*20)\n",
    "print(disease)\n",
    "print()\n",
    "\n",
    "print(\"=\"*20,\" Description \",\"=\"*20)\n",
    "print(desc)\n",
    "print()\n",
    "\n",
    "\n",
    "print(\"=\"*20,\" precautions \",\"=\"*20)\n",
    "#print(prec)\n",
    "k=1\n",
    "for p_k in prec:\n",
    "    print(f\"{k} : {p_k}\")\n",
    "    k+=1\n",
    "print()\n",
    "\n",
    "print(\"=\"*20,\" Diets \",\"=\"*20)\n",
    "#print(diet)\n",
    "i=1\n",
    "for d_i in diet:\n",
    "    print(f\"{i} : {d_i}\")\n",
    "    i+=1\n",
    "print()\n",
    "\n",
    "print(\"=\"*20,\" Medication \",\"=\"*20)\n",
    "#print(medct)\n",
    "j=1\n",
    "for m_j in medct:\n",
    "    print(f\"{j} : {m_j}\")\n",
    "    j+=1\n",
    "print()\n",
    "\n",
    "print(\"=\"*20,\" Workout \",\"=\"*20)\n",
    "#print(workout)\n",
    "l=1\n",
    "for w_l in workout:\n",
    "    print(f\"{l} : {w_l}\")\n",
    "    l+=1\n",
    "print()\n"
   ]
  },
  {
   "cell_type": "code",
   "execution_count": null,
   "id": "69a6fdc2-a6cf-4653-aca0-0da7f3f3d0b9",
   "metadata": {},
   "outputs": [],
   "source": []
  },
  {
   "cell_type": "code",
   "execution_count": null,
   "id": "c50a96bd-2bd7-4820-9c36-50274931a8f9",
   "metadata": {},
   "outputs": [],
   "source": []
  },
  {
   "cell_type": "code",
   "execution_count": null,
   "id": "dc9acb02-8e8f-4177-bfaf-9ecefcda09f1",
   "metadata": {},
   "outputs": [],
   "source": []
  },
  {
   "cell_type": "code",
   "execution_count": null,
   "id": "0facbf5f-2578-4f48-ba9b-5310b3f5f93a",
   "metadata": {},
   "outputs": [],
   "source": []
  },
  {
   "cell_type": "code",
   "execution_count": null,
   "id": "e46fafeb-1155-4bfb-a8bb-23c29b7c2ba8",
   "metadata": {},
   "outputs": [],
   "source": []
  },
  {
   "cell_type": "code",
   "execution_count": null,
   "id": "74022b6a-9301-4b7d-88f0-7df553f03fff",
   "metadata": {},
   "outputs": [],
   "source": []
  }
 ],
 "metadata": {
  "kernelspec": {
   "display_name": "Python 3 (ipykernel)",
   "language": "python",
   "name": "python3"
  },
  "language_info": {
   "codemirror_mode": {
    "name": "ipython",
    "version": 3
   },
   "file_extension": ".py",
   "mimetype": "text/x-python",
   "name": "python",
   "nbconvert_exporter": "python",
   "pygments_lexer": "ipython3",
   "version": "3.13.1"
  }
 },
 "nbformat": 4,
 "nbformat_minor": 5
}
